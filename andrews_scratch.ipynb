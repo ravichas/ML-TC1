{
 "metadata": {
  "language_info": {
   "codemirror_mode": {
    "name": "ipython",
    "version": 3
   },
   "file_extension": ".py",
   "mimetype": "text/x-python",
   "name": "python",
   "nbconvert_exporter": "python",
   "pygments_lexer": "ipython3",
   "version": 3
  },
  "orig_nbformat": 2
 },
 "nbformat": 4,
 "nbformat_minor": 2,
 "cells": [
  {
   "source": [
    "# Scratch"
   ],
   "cell_type": "markdown",
   "metadata": {}
  },
  {
   "cell_type": "code",
   "execution_count": null,
   "metadata": {},
   "outputs": [],
   "source": [
    "mylist = [0,0,1,0]\n",
    "mylist.index(1)\n",
    "myarr = np.array(mylist)\n",
    "myarr.argmax()"
   ]
  },
  {
   "cell_type": "code",
   "execution_count": null,
   "metadata": {},
   "outputs": [],
   "source": [
    "np.array([x.argmax() for x in outcome]) is outcome_decoded\n",
    "#type(outcome_decoded)"
   ]
  },
  {
   "cell_type": "code",
   "execution_count": null,
   "metadata": {},
   "outputs": [],
   "source": [
    "results_to_plot = pca_results\n",
    "MYLABELS = outcome_decoded\n",
    "\n",
    "\n",
    "# Import relevant libraries\n",
    "import seaborn as sns\n",
    "import matplotlib.pyplot as plt\n",
    "import matplotlib.lines as mpl_lines\n",
    "\n",
    "# Get a reasonable set of markers and color palette\n",
    "markers = mpl_lines.Line2D.filled_markers\n",
    "nclasses = len(set(MYLABELS))\n",
    "marker_list = (markers * int(nclasses/len(markers)+1))[:nclasses]\n",
    "color_palette = sns.color_palette(\"hls\", nclasses)\n",
    "\n",
    "# Plot results\n",
    "_, ax = plt.subplots(figsize=(12,7.5), facecolor='w')\n",
    "ax = sns.scatterplot(x=results_to_plot[:,0], y=results_to_plot[:,1], hue=MYLABELS, style=MYLABELS, palette=color_palette, legend='full', alpha=1, markers=marker_list, edgecolor='k', ax=ax) # fails\n",
    "#ax = sns.scatterplot(x=results_to_plot[:,0], y=results_to_plot[:,1], palette=color_palette, legend='full', alpha=1, markers=marker_list, edgecolor='k', ax=ax) # works\n",
    "#ax = sns.scatterplot(x=results_to_plot[:,0], y=results_to_plot[:,1], hue=outcome_decoded, palette=color_palette, legend='full', alpha=1, markers=marker_list, edgecolor='k', ax=ax) # works\n",
    "ax.legend(bbox_to_anchor=(1,1))"
   ]
  },
  {
   "cell_type": "code",
   "execution_count": null,
   "metadata": {},
   "outputs": [],
   "source": [
    "MYLABELS"
   ]
  }
 ]
}